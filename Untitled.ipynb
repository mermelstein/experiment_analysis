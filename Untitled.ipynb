{
 "cells": [
  {
   "cell_type": "markdown",
   "metadata": {},
   "source": [
    "---\n",
    "title: Quarto stuff\n",
    "format:\n",
    "  html\n",
    "jupyter: python3\n",
    "---"
   ]
  },
  {
   "cell_type": "code",
   "execution_count": 93,
   "metadata": {},
   "outputs": [],
   "source": [
    "import yaml"
   ]
  },
  {
   "cell_type": "markdown",
   "metadata": {},
   "source": [
    "quarto render hello.ipynb --to html\n",
    "quarto preview hello.ipynb --to html"
   ]
  },
  {
   "cell_type": "code",
   "execution_count": 96,
   "metadata": {},
   "outputs": [],
   "source": [
    "with open(\"/Users/dmermelstein/src/clone_this_repo/experiment_analysis/experiments.yaml\", 'r') as file:\n",
    "    try:\n",
    "        experiments_yaml=yaml.safe_load(file)\n",
    "    except yaml.YAMLError as exc:\n",
    "        print(exc)"
   ]
  },
  {
   "cell_type": "code",
   "execution_count": 98,
   "metadata": {},
   "outputs": [
    {
     "name": "stdout",
     "output_type": "stream",
     "text": [
      "button_color_experiment\n"
     ]
    }
   ],
   "source": [
    "# experiment name\n",
    "for i in experiments_yaml:\n",
    "    print(i)"
   ]
  },
  {
   "cell_type": "code",
   "execution_count": 100,
   "metadata": {},
   "outputs": [
    {
     "name": "stdout",
     "output_type": "stream",
     "text": [
      "control\n"
     ]
    }
   ],
   "source": [
    "for i in experiments_yaml:\n",
    "    print(experiments_yaml[i]['control_variant_name'])"
   ]
  },
  {
   "cell_type": "code",
   "execution_count": 58,
   "metadata": {},
   "outputs": [],
   "source": [
    "experiments_yaml"
   ]
  },
  {
   "cell_type": "code",
   "execution_count": 59,
   "metadata": {},
   "outputs": [],
   "source": []
  },
  {
   "cell_type": "code",
   "execution_count": null,
   "metadata": {},
   "outputs": [],
   "source": []
  },
  {
   "cell_type": "code",
   "execution_count": 89,
   "metadata": {},
   "outputs": [
    {
     "data": {
      "text/plain": [
       "-0.006332876340811272"
      ]
     },
     "execution_count": 89,
     "metadata": {},
     "output_type": "execute_result"
    }
   ],
   "source": [
    "# from BayesABTest import plot_posteriors\n",
    "\n",
    "# dir(first_test)\n",
    "# first_test._calc_lift[0]\n",
    "sum(first_test.lift['test']['control'])/len(first_test.lift['test']['control'])\n",
    "\n",
    "\n",
    "np.percentile(first_test.lift['test']['control'], 5)\n",
    "\n",
    "# lower_bound = x[y.index(min(y,\n",
    "#                             key=lambda x:\n",
    "#                             abs(x-self.confidence_level)))]\n",
    "# median = x[y.index(min(y, key=lambda x:abs(x-0.5)))]\n",
    "# upper_bound = x[y.index(min(y,\n",
    "#                             key=lambda x:\n",
    "#                             abs(x-(1-self.confidence_level))))]"
   ]
  },
  {
   "cell_type": "code",
   "execution_count": 77,
   "metadata": {},
   "outputs": [
    {
     "data": {
      "text/plain": [
       "['__call__',\n",
       " '__class__',\n",
       " '__delattr__',\n",
       " '__dir__',\n",
       " '__doc__',\n",
       " '__eq__',\n",
       " '__format__',\n",
       " '__func__',\n",
       " '__ge__',\n",
       " '__get__',\n",
       " '__getattribute__',\n",
       " '__gt__',\n",
       " '__hash__',\n",
       " '__init__',\n",
       " '__init_subclass__',\n",
       " '__le__',\n",
       " '__lt__',\n",
       " '__ne__',\n",
       " '__new__',\n",
       " '__reduce__',\n",
       " '__reduce_ex__',\n",
       " '__repr__',\n",
       " '__self__',\n",
       " '__setattr__',\n",
       " '__sizeof__',\n",
       " '__str__',\n",
       " '__subclasshook__']"
      ]
     },
     "execution_count": 77,
     "metadata": {},
     "output_type": "execute_result"
    }
   ],
   "source": [
    "dir(first_test._calc_lift)"
   ]
  },
  {
   "cell_type": "code",
   "execution_count": 54,
   "metadata": {},
   "outputs": [
    {
     "data": {
      "text/plain": [
       "['__class__',\n",
       " '__delattr__',\n",
       " '__dict__',\n",
       " '__dir__',\n",
       " '__doc__',\n",
       " '__eq__',\n",
       " '__format__',\n",
       " '__ge__',\n",
       " '__getattribute__',\n",
       " '__gt__',\n",
       " '__hash__',\n",
       " '__init__',\n",
       " '__init_subclass__',\n",
       " '__le__',\n",
       " '__lt__',\n",
       " '__module__',\n",
       " '__ne__',\n",
       " '__new__',\n",
       " '__reduce__',\n",
       " '__reduce_ex__',\n",
       " '__repr__',\n",
       " '__setattr__',\n",
       " '__sizeof__',\n",
       " '__str__',\n",
       " '__subclasshook__',\n",
       " '__weakref__',\n",
       " '_calc_ecdf',\n",
       " '_calc_lift',\n",
       " '_error_check_inputs',\n",
       " '_format_axis_as_percent',\n",
       " '_format_title',\n",
       " '_h',\n",
       " '_loss_beta',\n",
       " '_loss_gamma',\n",
       " '_loss_normal',\n",
       " '_norm_update_mean',\n",
       " '_norm_update_var',\n",
       " '_plot_ecdf',\n",
       " '_plot_positive_lift',\n",
       " '_plot_posteriors',\n",
       " '_sample',\n",
       " '_sample_beta',\n",
       " '_sample_normal',\n",
       " '_sample_poisson',\n",
       " '_stop_test',\n",
       " '_stringify_variants',\n",
       " '_trace',\n",
       " 'bucket_col_name',\n",
       " 'compare_variants',\n",
       " 'confidence_level',\n",
       " 'control_bucket_name',\n",
       " 'debug',\n",
       " 'ecdf',\n",
       " 'fit',\n",
       " 'lift',\n",
       " 'loss_function',\n",
       " 'metric',\n",
       " 'plot',\n",
       " 'plot_ecdf',\n",
       " 'plot_positive_lift',\n",
       " 'plot_posteriors',\n",
       " 'posteriors',\n",
       " 'prior_function',\n",
       " 'prior_info',\n",
       " 'prior_parameters',\n",
       " 'prior_params',\n",
       " 'prior_scale_factor',\n",
       " 'raw_data',\n",
       " 'samples',\n",
       " 'variant_bucket_names']"
      ]
     },
     "execution_count": 54,
     "metadata": {},
     "output_type": "execute_result"
    }
   ],
   "source": [
    "dir(first_test)"
   ]
  },
  {
   "cell_type": "code",
   "execution_count": 12,
   "metadata": {},
   "outputs": [],
   "source": [
    "\n",
    "# plot posterior distributions\n",
    "\n",
    "# plot ratio of sampled conversion rates AKA High Density Interval (calculate 90% credible interval)\n",
    "\n",
    "# show CI and likelihood of improvement"
   ]
  },
  {
   "cell_type": "code",
   "execution_count": 106,
   "metadata": {},
   "outputs": [],
   "source": [
    "def create_new_cell(contents):\n",
    "    from IPython.core.getipython import get_ipython\n",
    "    shell = get_ipython()\n",
    "    shell.set_next_input(contents, replace=False)"
   ]
  },
  {
   "cell_type": "code",
   "execution_count": 107,
   "metadata": {},
   "outputs": [],
   "source": [
    "create_new_cell(\"a is time to go\")"
   ]
  },
  {
   "cell_type": "code",
   "execution_count": null,
   "metadata": {},
   "outputs": [],
   "source": [
    "a is time to go"
   ]
  },
  {
   "cell_type": "code",
   "execution_count": null,
   "metadata": {},
   "outputs": [],
   "source": [
    "a is time to go"
   ]
  }
 ],
 "metadata": {
  "kernelspec": {
   "display_name": "Python 3",
   "language": "python",
   "name": "python3"
  },
  "language_info": {
   "codemirror_mode": {
    "name": "ipython",
    "version": 3
   },
   "file_extension": ".py",
   "mimetype": "text/x-python",
   "name": "python",
   "nbconvert_exporter": "python",
   "pygments_lexer": "ipython3",
   "version": "3.7.4"
  }
 },
 "nbformat": 4,
 "nbformat_minor": 4
}
